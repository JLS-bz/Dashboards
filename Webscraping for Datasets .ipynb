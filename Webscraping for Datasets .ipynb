{
  "nbformat": 4,
  "nbformat_minor": 0,
  "metadata": {
    "colab": {
      "provenance": [],
      "authorship_tag": "ABX9TyNHQJgCo+T0eiyBH5mFIHh3",
      "include_colab_link": true
    },
    "kernelspec": {
      "name": "python3",
      "display_name": "Python 3"
    },
    "language_info": {
      "name": "python"
    }
  },
  "cells": [
    {
      "cell_type": "markdown",
      "metadata": {
        "id": "view-in-github",
        "colab_type": "text"
      },
      "source": [
        "<a href=\"https://colab.research.google.com/github/JLS-bz/Dashboards/blob/main/Datasets.ipynb\" target=\"_parent\"><img src=\"https://colab.research.google.com/assets/colab-badge.svg\" alt=\"Open In Colab\"/></a>"
      ]
    },
    {
      "cell_type": "code",
      "source": [
        "from google.colab import drive\n",
        "drive.mount('/content/drive')"
      ],
      "metadata": {
        "colab": {
          "base_uri": "https://localhost:8080/"
        },
        "id": "O4CsFHKR455o",
        "outputId": "0987fb20-8cb4-47d1-ee18-dacb4aee8b60"
      },
      "execution_count": null,
      "outputs": [
        {
          "output_type": "stream",
          "name": "stdout",
          "text": [
            "Mounted at /content/drive\n"
          ]
        }
      ]
    },
    {
      "cell_type": "code",
      "source": [
        "import pandas as pd\n",
        "import json\n",
        "import requests"
      ],
      "metadata": {
        "id": "PMLG9JYxU8JM"
      },
      "execution_count": null,
      "outputs": []
    },
    {
      "cell_type": "code",
      "source": [
        "def get_pushshift_data(**kwargs):\n",
        "  base_url = f\"https://api.pushshift.io/reddit/search/submission/\"\n",
        "  payload = kwargs\n",
        "  request = requests.get(base_url, params=payload)\n",
        "  return request.json()\n",
        "\n",
        "#query = \"dissociation\"          # Add your query\n",
        "#duration = \"30d\"          # Select the timeframe. Epoch value or Integer + \"s,m,h,d\" (i.e. \"second\", \"minute\", \"hour\", \"day\")\n",
        "#size = 200               # maximum 1000 comments\n",
        "#sort_type = \"score\"       # Sort by score (Accepted: \"score\", \"num_comments\", \"created_utc\")\n",
        "#sort = \"desc\"             # sort descending\n",
        "#aggs = \"subreddit\"       #deprecated #\"author\", \"link_id\", \"created_utc\", \"subreddit\"\n"
      ],
      "metadata": {
        "id": "YeFqzM8k4zus"
      },
      "execution_count": null,
      "outputs": []
    },
    {
      "cell_type": "code",
      "source": [
        "import datetime as dt\n",
        "\n",
        "start_epoch=int(dt.datetime(2023, 1, 16).timestamp())\n",
        "end_epoch=int(dt.datetime(2023, 1, 15).timestamp())\n",
        "\n",
        "patdel = \"^\\[removed]$\""
      ],
      "metadata": {
        "id": "fOxHhlQbx1TA"
      },
      "execution_count": null,
      "outputs": []
    },
    {
      "cell_type": "markdown",
      "source": [
        "# DPDR"
      ],
      "metadata": {
        "id": "d5qrDigiC7ck"
      }
    },
    {
      "cell_type": "code",
      "source": [
        "data = get_pushshift_data(subreddit = \"dpdr\",\n",
        "                          #after = end_epoch,\n",
        "                          before = start_epoch,\n",
        "                          size = 1000,\n",
        "                          sort = 'created_utc')"
      ],
      "metadata": {
        "id": "nFTjmhQPF2xz"
      },
      "execution_count": null,
      "outputs": []
    },
    {
      "cell_type": "code",
      "source": [
        "df = pd.DataFrame(data['data'])\n",
        "df.info()"
      ],
      "metadata": {
        "id": "AWuYvnc7veQ-"
      },
      "execution_count": null,
      "outputs": []
    },
    {
      "cell_type": "code",
      "source": [
        "dpdrDF = df[['title','selftext','created_utc','upvote_ratio','score','num_comments']]\n",
        "dpdrDF"
      ],
      "metadata": {
        "id": "DoqzKK9j2oNL"
      },
      "execution_count": null,
      "outputs": []
    },
    {
      "cell_type": "code",
      "source": [
        "filter = dpdrDF['selftext'].str.contains(patdel, regex=True)\n",
        "removed = dpdrDF[filter]\n",
        "removed.info()"
      ],
      "metadata": {
        "id": "JMA2pUVSNOc0"
      },
      "execution_count": null,
      "outputs": []
    },
    {
      "cell_type": "code",
      "source": [
        "dpdrDF['selftext'] = dpdrDF['selftext'].str.replace(patdel, ' ', regex=True)\n",
        "dpdrDF['post'] = dpdrDF['title'].astype(str) + \" \" + dpdrDF['selftext']\n",
        "dpdrDF = dpdrDF.drop(columns = ['title', 'selftext'])\n",
        "dpdrDF.info()"
      ],
      "metadata": {
        "id": "A5ulA8dR5AUg"
      },
      "execution_count": null,
      "outputs": []
    },
    {
      "cell_type": "code",
      "source": [
        "path = '/content/drive/My Drive/Colab Notebooks/Data/dpdr.csv'\n",
        "with open(path, 'w', encoding = 'utf-8-sig') as f:dpdrDF.to_csv(f)"
      ],
      "metadata": {
        "id": "0wNi4Q4s13v3"
      },
      "execution_count": null,
      "outputs": []
    },
    {
      "cell_type": "markdown",
      "source": [
        "# Anxiety"
      ],
      "metadata": {
        "id": "o3tnC6XyC0Sg"
      }
    },
    {
      "cell_type": "code",
      "source": [
        "data = get_pushshift_data(subreddit = \"Anxiety\",\n",
        "                          #after = end_epoch,\n",
        "                          before = start_epoch,\n",
        "                          size = 1000,\n",
        "                          sort = 'created_utc')"
      ],
      "metadata": {
        "id": "U9L-YrTRDApH"
      },
      "execution_count": null,
      "outputs": []
    },
    {
      "cell_type": "code",
      "source": [
        "df = pd.DataFrame(data['data'])"
      ],
      "metadata": {
        "id": "vMAz0LTRDH2n"
      },
      "execution_count": null,
      "outputs": []
    },
    {
      "cell_type": "code",
      "source": [
        "anxiety = df[['title','selftext','created_utc','upvote_ratio','score','num_comments']]\n"
      ],
      "metadata": {
        "id": "XuVB8lAqDN6i"
      },
      "execution_count": null,
      "outputs": []
    },
    {
      "cell_type": "code",
      "source": [
        "anxiety['selftext'] = anxiety['selftext'].str.replace(patdel, ' ', regex=True)\n",
        "anxiety['post'] = anxiety['title'].astype(str) + \" \" + anxiety['selftext']\n",
        "anxiety = anxiety.drop(columns = ['title', 'selftext'])\n",
        "anxiety.info()"
      ],
      "metadata": {
        "id": "D4XXacnBDsWc"
      },
      "execution_count": null,
      "outputs": []
    },
    {
      "cell_type": "code",
      "source": [
        "path = '/content/drive/My Drive/Colab Notebooks/Data/Anxiety.csv'\n",
        "with open(path, 'w', encoding = 'utf-8-sig') as f:anxiety.to_csv(f)"
      ],
      "metadata": {
        "id": "yU_Zr3XAECHe"
      },
      "execution_count": null,
      "outputs": []
    },
    {
      "cell_type": "markdown",
      "source": [
        "# Older code"
      ],
      "metadata": {
        "id": "gA7H4ozs401m"
      }
    },
    {
      "cell_type": "code",
      "execution_count": null,
      "metadata": {
        "id": "URRyUKfqUtRN"
      },
      "outputs": [],
      "source": [
        "import pandas as pd\n",
        "import datetime as dt\n",
        "from pmaw import PushshiftAPI\n",
        "import praw\n",
        "\n",
        "api = PushshiftAPI()\n",
        "\n",
        "reddit = praw.Reddit(\n",
        "    client_id = \"TrdNfqquGu9iJlltXymnIw\",\n",
        "    client_secret = \"c7bx3x6ziKfLWuMUooeTB3s_tpo4vA\",\n",
        "    user_agent = \"webscraper\"\n",
        ")\n",
        "\n",
        "start_epoch=int(dt.datetime(2023, 1, 1).timestamp())\n",
        "end_epoch=int(dt.datetime(2023, 1, 10).timestamp())\n",
        "\n",
        "patdel = \"^\\[removed]$\""
      ]
    },
    {
      "cell_type": "code",
      "source": [
        "subreddit = reddit.subreddit(\"depression_help\")\n",
        "\n",
        "posts = subreddit.top(\"month\")\n",
        "\n",
        "posts_dict = {\"Title\": [], \"SelfText\": [],\n",
        "              \"Score\": [],\n",
        "              \"Total Comments\": [], \"Date\": []}\n",
        "\n",
        "for post in posts:\n",
        "  posts_dict[\"Title\"].append(post.title)\n",
        "  posts_dict[\"SelfText\"].append(post.selftext)\n",
        "  posts_dict[\"Score\"].append(post.score)\n",
        "  posts_dict[\"Total Comments\"].append(post.num_comments)\n",
        "  posts_dict[\"Date\"].append(post.created_utc)\n",
        "\n",
        "\n",
        "top_posts = pd.DataFrame(posts_dict)\n",
        "top_posts.info()"
      ],
      "metadata": {
        "id": "TPtlLiChLEVJ"
      },
      "execution_count": null,
      "outputs": []
    },
    {
      "cell_type": "code",
      "source": [
        "df = df.drop_duplicates(subset=['created_utc'], keep='first')\n",
        "df.info()"
      ],
      "metadata": {
        "id": "ZgckqwK1q5D9"
      },
      "execution_count": null,
      "outputs": []
    },
    {
      "cell_type": "code",
      "source": [
        "filter = df['SelfText'].str.contains(patdel, regex=True)\n",
        "rem = df[filter]\n",
        "rem.info()"
      ],
      "metadata": {
        "id": "VwLxsGvQe0jl"
      },
      "execution_count": null,
      "outputs": []
    },
    {
      "cell_type": "code",
      "source": [
        "df['SelfText'] = df['SelfText'].str.replace(patdel, ' ', regex=True)\n",
        "df['post'] = df['Title'].astype(str) + \" \" + df['SelfText']\n",
        "df = df[['post', 'Date']]\n",
        "df.info()"
      ],
      "metadata": {
        "id": "0utRyXY-g6OJ"
      },
      "execution_count": null,
      "outputs": []
    },
    {
      "cell_type": "code",
      "source": [
        "df"
      ],
      "metadata": {
        "id": "3-Z5i4vFTgdc"
      },
      "execution_count": null,
      "outputs": []
    },
    {
      "cell_type": "code",
      "source": [
        "path = '/content/drive/My Drive/Colab Notebooks/Data/depression_help.csv'\n",
        "with open(path, 'w', encoding = 'utf-8-sig') as f:depression_help.to_csv(f)"
      ],
      "metadata": {
        "id": "xmYytLbmQxGE"
      },
      "execution_count": null,
      "outputs": []
    },
    {
      "cell_type": "code",
      "source": [
        "del df "
      ],
      "metadata": {
        "id": "eK1Rzu8Ky3jl"
      },
      "execution_count": null,
      "outputs": []
    },
    {
      "cell_type": "code",
      "source": [
        "anxiety_help = pd.DataFrame(api.search_submissions(after=start_epoch, before=end_epoch,\n",
        "                            filter=['title','selftext'],\n",
        "                            subreddit='Anxietyhelp'))\n",
        "anxiety_help.info()"
      ],
      "metadata": {
        "id": "lQB92mFPTD9S"
      },
      "execution_count": null,
      "outputs": []
    },
    {
      "cell_type": "code",
      "source": [
        "df = anxiety_help.drop_duplicates(subset=None, keep='first')\n",
        "df.info()"
      ],
      "metadata": {
        "id": "qvuCAKfczH1U"
      },
      "execution_count": null,
      "outputs": []
    },
    {
      "cell_type": "code",
      "source": [
        "#path = '/content/drive/My Drive/Colab Notebooks/Data/anxiety_help.csv'\n",
        "#with open(path, 'w', encoding = 'utf-8-sig') as f:anxiety_help.to_csv(f)"
      ],
      "metadata": {
        "id": "RZS3KGQtTpWb"
      },
      "execution_count": null,
      "outputs": []
    }
  ]
}