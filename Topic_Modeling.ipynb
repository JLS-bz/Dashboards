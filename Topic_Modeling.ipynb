{
  "nbformat": 4,
  "nbformat_minor": 0,
  "metadata": {
    "colab": {
      "provenance": [],
      "toc_visible": true,
      "authorship_tag": "ABX9TyOIC5TxgJtfo5iJbcndtf1W",
      "include_colab_link": true
    },
    "kernelspec": {
      "name": "python3",
      "display_name": "Python 3"
    },
    "language_info": {
      "name": "python"
    },
    "accelerator": "GPU",
    "gpuClass": "standard",
    "widgets": {
      "application/vnd.jupyter.widget-state+json": {
        "652b026ec8184b8fa027ab6a026d3b14": {
          "model_module": "@jupyter-widgets/controls",
          "model_name": "HBoxModel",
          "model_module_version": "1.5.0",
          "state": {
            "_dom_classes": [],
            "_model_module": "@jupyter-widgets/controls",
            "_model_module_version": "1.5.0",
            "_model_name": "HBoxModel",
            "_view_count": null,
            "_view_module": "@jupyter-widgets/controls",
            "_view_module_version": "1.5.0",
            "_view_name": "HBoxView",
            "box_style": "",
            "children": [
              "IPY_MODEL_7cc24a035d9540bfa687696ee2cc1f04",
              "IPY_MODEL_934fd7246eb1446c9ff17614a09b1026",
              "IPY_MODEL_8708d055702a43b1bb19e79a4e063ff8"
            ],
            "layout": "IPY_MODEL_d9da1d0cbda340619d7f15b97bec699d"
          }
        },
        "7cc24a035d9540bfa687696ee2cc1f04": {
          "model_module": "@jupyter-widgets/controls",
          "model_name": "HTMLModel",
          "model_module_version": "1.5.0",
          "state": {
            "_dom_classes": [],
            "_model_module": "@jupyter-widgets/controls",
            "_model_module_version": "1.5.0",
            "_model_name": "HTMLModel",
            "_view_count": null,
            "_view_module": "@jupyter-widgets/controls",
            "_view_module_version": "1.5.0",
            "_view_name": "HTMLView",
            "description": "",
            "description_tooltip": null,
            "layout": "IPY_MODEL_6f291960d6aa4fa9ac8e561f33b76063",
            "placeholder": "​",
            "style": "IPY_MODEL_5bfd1d6755ae41e89393edf4de5c479e",
            "value": "100%"
          }
        },
        "934fd7246eb1446c9ff17614a09b1026": {
          "model_module": "@jupyter-widgets/controls",
          "model_name": "FloatProgressModel",
          "model_module_version": "1.5.0",
          "state": {
            "_dom_classes": [],
            "_model_module": "@jupyter-widgets/controls",
            "_model_module_version": "1.5.0",
            "_model_name": "FloatProgressModel",
            "_view_count": null,
            "_view_module": "@jupyter-widgets/controls",
            "_view_module_version": "1.5.0",
            "_view_name": "ProgressView",
            "bar_style": "success",
            "description": "",
            "description_tooltip": null,
            "layout": "IPY_MODEL_731247dfcdfa46928f3670d08fe5b70a",
            "max": 13,
            "min": 0,
            "orientation": "horizontal",
            "style": "IPY_MODEL_18e9c52a00cd4f10a32dbe33e93e9aa1",
            "value": 13
          }
        },
        "8708d055702a43b1bb19e79a4e063ff8": {
          "model_module": "@jupyter-widgets/controls",
          "model_name": "HTMLModel",
          "model_module_version": "1.5.0",
          "state": {
            "_dom_classes": [],
            "_model_module": "@jupyter-widgets/controls",
            "_model_module_version": "1.5.0",
            "_model_name": "HTMLModel",
            "_view_count": null,
            "_view_module": "@jupyter-widgets/controls",
            "_view_module_version": "1.5.0",
            "_view_name": "HTMLView",
            "description": "",
            "description_tooltip": null,
            "layout": "IPY_MODEL_d4de6404e2954324ac6018fa0d98f2ee",
            "placeholder": "​",
            "style": "IPY_MODEL_e16a6114e0044b96b4ae527af9d93896",
            "value": " 13/13 [39:01&lt;00:00, 251.72s/it]"
          }
        },
        "d9da1d0cbda340619d7f15b97bec699d": {
          "model_module": "@jupyter-widgets/base",
          "model_name": "LayoutModel",
          "model_module_version": "1.2.0",
          "state": {
            "_model_module": "@jupyter-widgets/base",
            "_model_module_version": "1.2.0",
            "_model_name": "LayoutModel",
            "_view_count": null,
            "_view_module": "@jupyter-widgets/base",
            "_view_module_version": "1.2.0",
            "_view_name": "LayoutView",
            "align_content": null,
            "align_items": null,
            "align_self": null,
            "border": null,
            "bottom": null,
            "display": null,
            "flex": null,
            "flex_flow": null,
            "grid_area": null,
            "grid_auto_columns": null,
            "grid_auto_flow": null,
            "grid_auto_rows": null,
            "grid_column": null,
            "grid_gap": null,
            "grid_row": null,
            "grid_template_areas": null,
            "grid_template_columns": null,
            "grid_template_rows": null,
            "height": null,
            "justify_content": null,
            "justify_items": null,
            "left": null,
            "margin": null,
            "max_height": null,
            "max_width": null,
            "min_height": null,
            "min_width": null,
            "object_fit": null,
            "object_position": null,
            "order": null,
            "overflow": null,
            "overflow_x": null,
            "overflow_y": null,
            "padding": null,
            "right": null,
            "top": null,
            "visibility": null,
            "width": null
          }
        },
        "6f291960d6aa4fa9ac8e561f33b76063": {
          "model_module": "@jupyter-widgets/base",
          "model_name": "LayoutModel",
          "model_module_version": "1.2.0",
          "state": {
            "_model_module": "@jupyter-widgets/base",
            "_model_module_version": "1.2.0",
            "_model_name": "LayoutModel",
            "_view_count": null,
            "_view_module": "@jupyter-widgets/base",
            "_view_module_version": "1.2.0",
            "_view_name": "LayoutView",
            "align_content": null,
            "align_items": null,
            "align_self": null,
            "border": null,
            "bottom": null,
            "display": null,
            "flex": null,
            "flex_flow": null,
            "grid_area": null,
            "grid_auto_columns": null,
            "grid_auto_flow": null,
            "grid_auto_rows": null,
            "grid_column": null,
            "grid_gap": null,
            "grid_row": null,
            "grid_template_areas": null,
            "grid_template_columns": null,
            "grid_template_rows": null,
            "height": null,
            "justify_content": null,
            "justify_items": null,
            "left": null,
            "margin": null,
            "max_height": null,
            "max_width": null,
            "min_height": null,
            "min_width": null,
            "object_fit": null,
            "object_position": null,
            "order": null,
            "overflow": null,
            "overflow_x": null,
            "overflow_y": null,
            "padding": null,
            "right": null,
            "top": null,
            "visibility": null,
            "width": null
          }
        },
        "5bfd1d6755ae41e89393edf4de5c479e": {
          "model_module": "@jupyter-widgets/controls",
          "model_name": "DescriptionStyleModel",
          "model_module_version": "1.5.0",
          "state": {
            "_model_module": "@jupyter-widgets/controls",
            "_model_module_version": "1.5.0",
            "_model_name": "DescriptionStyleModel",
            "_view_count": null,
            "_view_module": "@jupyter-widgets/base",
            "_view_module_version": "1.2.0",
            "_view_name": "StyleView",
            "description_width": ""
          }
        },
        "731247dfcdfa46928f3670d08fe5b70a": {
          "model_module": "@jupyter-widgets/base",
          "model_name": "LayoutModel",
          "model_module_version": "1.2.0",
          "state": {
            "_model_module": "@jupyter-widgets/base",
            "_model_module_version": "1.2.0",
            "_model_name": "LayoutModel",
            "_view_count": null,
            "_view_module": "@jupyter-widgets/base",
            "_view_module_version": "1.2.0",
            "_view_name": "LayoutView",
            "align_content": null,
            "align_items": null,
            "align_self": null,
            "border": null,
            "bottom": null,
            "display": null,
            "flex": null,
            "flex_flow": null,
            "grid_area": null,
            "grid_auto_columns": null,
            "grid_auto_flow": null,
            "grid_auto_rows": null,
            "grid_column": null,
            "grid_gap": null,
            "grid_row": null,
            "grid_template_areas": null,
            "grid_template_columns": null,
            "grid_template_rows": null,
            "height": null,
            "justify_content": null,
            "justify_items": null,
            "left": null,
            "margin": null,
            "max_height": null,
            "max_width": null,
            "min_height": null,
            "min_width": null,
            "object_fit": null,
            "object_position": null,
            "order": null,
            "overflow": null,
            "overflow_x": null,
            "overflow_y": null,
            "padding": null,
            "right": null,
            "top": null,
            "visibility": null,
            "width": null
          }
        },
        "18e9c52a00cd4f10a32dbe33e93e9aa1": {
          "model_module": "@jupyter-widgets/controls",
          "model_name": "ProgressStyleModel",
          "model_module_version": "1.5.0",
          "state": {
            "_model_module": "@jupyter-widgets/controls",
            "_model_module_version": "1.5.0",
            "_model_name": "ProgressStyleModel",
            "_view_count": null,
            "_view_module": "@jupyter-widgets/base",
            "_view_module_version": "1.2.0",
            "_view_name": "StyleView",
            "bar_color": null,
            "description_width": ""
          }
        },
        "d4de6404e2954324ac6018fa0d98f2ee": {
          "model_module": "@jupyter-widgets/base",
          "model_name": "LayoutModel",
          "model_module_version": "1.2.0",
          "state": {
            "_model_module": "@jupyter-widgets/base",
            "_model_module_version": "1.2.0",
            "_model_name": "LayoutModel",
            "_view_count": null,
            "_view_module": "@jupyter-widgets/base",
            "_view_module_version": "1.2.0",
            "_view_name": "LayoutView",
            "align_content": null,
            "align_items": null,
            "align_self": null,
            "border": null,
            "bottom": null,
            "display": null,
            "flex": null,
            "flex_flow": null,
            "grid_area": null,
            "grid_auto_columns": null,
            "grid_auto_flow": null,
            "grid_auto_rows": null,
            "grid_column": null,
            "grid_gap": null,
            "grid_row": null,
            "grid_template_areas": null,
            "grid_template_columns": null,
            "grid_template_rows": null,
            "height": null,
            "justify_content": null,
            "justify_items": null,
            "left": null,
            "margin": null,
            "max_height": null,
            "max_width": null,
            "min_height": null,
            "min_width": null,
            "object_fit": null,
            "object_position": null,
            "order": null,
            "overflow": null,
            "overflow_x": null,
            "overflow_y": null,
            "padding": null,
            "right": null,
            "top": null,
            "visibility": null,
            "width": null
          }
        },
        "e16a6114e0044b96b4ae527af9d93896": {
          "model_module": "@jupyter-widgets/controls",
          "model_name": "DescriptionStyleModel",
          "model_module_version": "1.5.0",
          "state": {
            "_model_module": "@jupyter-widgets/controls",
            "_model_module_version": "1.5.0",
            "_model_name": "DescriptionStyleModel",
            "_view_count": null,
            "_view_module": "@jupyter-widgets/base",
            "_view_module_version": "1.2.0",
            "_view_name": "StyleView",
            "description_width": ""
          }
        }
      }
    }
  },
  "cells": [
    {
      "cell_type": "markdown",
      "metadata": {
        "id": "view-in-github",
        "colab_type": "text"
      },
      "source": [
        "<a href=\"https://colab.research.google.com/github/JLS-bz/Dashboards/blob/main/Topic_Modeling.ipynb\" target=\"_parent\"><img src=\"https://colab.research.google.com/assets/colab-badge.svg\" alt=\"Open In Colab\"/></a>"
      ]
    },
    {
      "cell_type": "markdown",
      "source": [
        "# Topic Modelling using SparkNLP, TF-IDF, & LDA\n",
        "\n",
        "Reference:\n",
        "https://colab.research.google.com/github/maobedkova/TopicModelling_PySpark_SparkNLP/blob/master/Topic_Modelling_with_PySpark_and_Spark_NLP.ipynb#scrollTo=ezlCICGwzvQu"
      ],
      "metadata": {
        "id": "MMsXIikOVUSX"
      }
    },
    {
      "cell_type": "markdown",
      "source": [
        "### Install Dependencies"
      ],
      "metadata": {
        "id": "EnYnP450pkAM"
      }
    },
    {
      "cell_type": "code",
      "source": [
        "import os\n",
        "\n",
        "# Install pyspark\n",
        "! pip install pyspark==3.3.0\n",
        "! apt-get install openjdk-8-jdk-headless -qq > /dev/null\n",
        "\n",
        "# Install Spark NLP\n",
        "! pip install spark-nlp==4.0.2\n",
        "\n",
        "# Install nltk\n",
        "! pip install nltk"
      ],
      "metadata": {
        "id": "mprjsl9VpeEF"
      },
      "execution_count": null,
      "outputs": []
    },
    {
      "cell_type": "markdown",
      "source": [
        "### Import Spark NLP and initialize session"
      ],
      "metadata": {
        "id": "Rshl9ujIWF4z"
      }
    },
    {
      "cell_type": "code",
      "source": [
        "import sparknlp\n",
        "\n",
        "spark = sparknlp.start()\n",
        "print(\"Spark NLP version: \", sparknlp.version())\n",
        "print(\"Apache Spark version: \", spark.version)"
      ],
      "metadata": {
        "colab": {
          "base_uri": "https://localhost:8080/"
        },
        "id": "ZTyKrDtCWQWh",
        "outputId": "64570a23-69ec-4444-bf5c-4be93907233c"
      },
      "execution_count": null,
      "outputs": [
        {
          "output_type": "stream",
          "name": "stdout",
          "text": [
            "Spark NLP version:  4.0.2\n",
            "Apache Spark version:  3.3.0\n"
          ]
        }
      ]
    },
    {
      "cell_type": "markdown",
      "source": [
        "### Import Data"
      ],
      "metadata": {
        "id": "MHkpLghjWUYD"
      }
    },
    {
      "cell_type": "code",
      "source": [
        "from google.colab import drive\n",
        "drive.mount('/content/gdrive', force_remount=True)"
      ],
      "metadata": {
        "colab": {
          "base_uri": "https://localhost:8080/"
        },
        "id": "78aA9l2duirP",
        "outputId": "00d4b34e-fb42-4200-a542-8a6274278bbf"
      },
      "execution_count": null,
      "outputs": [
        {
          "output_type": "stream",
          "name": "stdout",
          "text": [
            "Mounted at /content/gdrive\n"
          ]
        }
      ]
    },
    {
      "cell_type": "code",
      "source": [
        "import pandas as pd\n",
        "import gc\n",
        "from pyspark.sql import functions as F\n",
        "\n",
        "path = '/content/gdrive/My Drive/Colab Notebooks/Data/dpdr.csv'\n",
        "data = spark.read.csv(path, header=True)\n",
        "\n",
        "text_col = 'post'\n",
        "df = data.select(text_col).filter(F.col(text_col).isNotNull())\n",
        "del data\n",
        "gc.collect()\n",
        "\n",
        "df.limit(5).show(truncate=90)"
      ],
      "metadata": {
        "colab": {
          "base_uri": "https://localhost:8080/"
        },
        "id": "fS_kwX9sWYG0",
        "outputId": "3c7f5224-79c6-4cbf-b0a2-5e7c9d80f5a8"
      },
      "execution_count": null,
      "outputs": [
        {
          "output_type": "stream",
          "name": "stdout",
          "text": [
            "+------------------------------------------------------------------------------------------+\n",
            "|                                                                                      post|\n",
            "+------------------------------------------------------------------------------------------+\n",
            "|                                LolThere is no way out of this , I have officially lost it|\n",
            "|I’m afraid I’ve been dealing with a 5 day long severe dissociative episode.I’m 15, and ...|\n",
            "|                                      If you have tension in your head, does it feel like:|\n",
            "|                                                      Parnate and lamotrigineHey everyone,|\n",
            "|\"Short discussion of the film \"\"Numb\"\" which is the only pop culture focused on deperso...|\n",
            "+------------------------------------------------------------------------------------------+\n",
            "\n"
          ]
        }
      ]
    },
    {
      "cell_type": "markdown",
      "source": [
        "### NLP Pipeline No. 1: Unigrams & PoS\n",
        "First, a basic pipeline is used to transform the data into unigrams and their respective Parts of Speech (PoS) labels. N-grams are also found, but may contain questionable combinations; this output will be further processed in the next pipeline."
      ],
      "metadata": {
        "id": "cLjdd6-8WeWc"
      }
    },
    {
      "cell_type": "code",
      "source": [
        "import nltk\n",
        "nltk.download('stopwords')\n",
        "\n",
        "from nltk.corpus import stopwords\n",
        "eng_stopwords = stopwords.words('english')"
      ],
      "metadata": {
        "colab": {
          "base_uri": "https://localhost:8080/"
        },
        "id": "RGITpPMBwSZi",
        "outputId": "d2655d62-8195-49fb-c9aa-9eb407067bbb"
      },
      "execution_count": null,
      "outputs": [
        {
          "output_type": "stream",
          "name": "stderr",
          "text": [
            "[nltk_data] Downloading package stopwords to /root/nltk_data...\n",
            "[nltk_data]   Unzipping corpora/stopwords.zip.\n"
          ]
        }
      ]
    },
    {
      "cell_type": "code",
      "source": [
        "from sparknlp.base import *\n",
        "from sparknlp.annotator import *\n",
        "\n",
        "document_assembler = DocumentAssembler() \\\n",
        "    .setInputCol(\"post\") \\\n",
        "    .setOutputCol(\"document\") \\\n",
        "    .setCleanupMode(\"shrink\")\n",
        "\n",
        "tokenizer = Tokenizer() \\\n",
        "  .setInputCols([\"document\"]) \\\n",
        "  .setOutputCol(\"tokenized\")\n",
        "\n",
        "normalizer = Normalizer() \\\n",
        "     .setInputCols(['tokenized']) \\\n",
        "     .setOutputCol('normalized') \\\n",
        "     .setLowercase(True)\n",
        "\n",
        "stopwords_cleaner = StopWordsCleaner()\\\n",
        "      .setInputCols(['normalized'])\\\n",
        "      .setOutputCol('unigrams')\\\n",
        "      .setStopWords(eng_stopwords)\\\n",
        "      .setCaseSensitive(False)\n",
        "\n",
        "ngrammer = NGramGenerator() \\\n",
        "    .setInputCols(['normalized']) \\\n",
        "    .setOutputCol('ngrams') \\\n",
        "    .setN(3) \\\n",
        "    .setEnableCumulative(True) \\\n",
        "    .setDelimiter('_')\n",
        "\n",
        "pos_tagger = PerceptronModel.pretrained('pos_anc') \\\n",
        "    .setInputCols(['document', 'normalized']) \\\n",
        "    .setOutputCol('pos')\n",
        "\n",
        "finisher = Finisher() \\\n",
        "     .setInputCols(['unigrams', 'ngrams', 'pos'])\n",
        "\n",
        "from pyspark.ml import Pipeline\n",
        "pipeline = Pipeline() \\\n",
        "    .setStages([document_assembler, \n",
        "            tokenizer,\n",
        "            normalizer,\n",
        "            stopwords_cleaner, \n",
        "            ngrammer,\n",
        "            pos_tagger,\n",
        "            finisher])"
      ],
      "metadata": {
        "colab": {
          "base_uri": "https://localhost:8080/"
        },
        "id": "zK62D4D8WnO1",
        "outputId": "e579f7c8-2ee9-4110-c1d7-aa13c2b3db7a"
      },
      "execution_count": null,
      "outputs": [
        {
          "output_type": "stream",
          "name": "stdout",
          "text": [
            "pos_anc download started this may take some time.\n",
            "Approximate size to download 3.9 MB\n",
            "[OK!]\n"
          ]
        }
      ]
    },
    {
      "cell_type": "markdown",
      "source": [
        "A Lemmatizer Annotator is not used. This preserves the various uses of verb tenses, which affects generated ngrams.\n",
        "\n",
        "Now the data is fit and transformed by the pipeline:"
      ],
      "metadata": {
        "id": "Cw-gaCrKWqOC"
      }
    },
    {
      "cell_type": "code",
      "source": [
        "processed_review = pipeline.fit(df).transform(df)\n",
        "processed_review.limit(5).show()"
      ],
      "metadata": {
        "colab": {
          "base_uri": "https://localhost:8080/"
        },
        "id": "2DYkvvKCxbGP",
        "outputId": "13d2c88e-6a50-4419-e9a2-c39c59970bb8"
      },
      "execution_count": null,
      "outputs": [
        {
          "output_type": "stream",
          "name": "stdout",
          "text": [
            "+--------------------+--------------------+--------------------+--------------------+\n",
            "|                post|   finished_unigrams|     finished_ngrams|        finished_pos|\n",
            "+--------------------+--------------------+--------------------+--------------------+\n",
            "|LolThere is no wa...|[lolthere, way, o...|[lolthere, is, no...|[NN, VBZ, DT, NN,...|\n",
            "|I’m afraid I’ve b...|[im, afraid, ive,...|[im, afraid, ive,...|[NN, JJ, JJ, VBN,...|\n",
            "|If you have tensi...|[tension, head, f...|[if, you, have, t...|[IN, PRP, VBP, NN...|\n",
            "|Parnate and lamot...|[parnate, lamotri...|[parnate, and, la...|    [NN, CC, NN, NN]|\n",
            "|\"Short discussion...|[short, discussio...|[short, discussio...|[JJ, NN, IN, DT, ...|\n",
            "+--------------------+--------------------+--------------------+--------------------+\n",
            "\n"
          ]
        }
      ]
    },
    {
      "cell_type": "markdown",
      "source": [
        "### NLP Pipeline No. 2: N-grams \n",
        "\n",
        "PoS-based filtering will be used in this pipeline to remove strange word combinations and reduce vocab size."
      ],
      "metadata": {
        "id": "4HHqr5N8ny2f"
      }
    },
    {
      "cell_type": "markdown",
      "source": [
        "First, the PoS labels are converted from arrays into strings, for ease of pipeline processing."
      ],
      "metadata": {
        "id": "UM4TPHaex-hW"
      }
    },
    {
      "cell_type": "code",
      "source": [
        "from pyspark.sql import types as T\n",
        "\n",
        "udf_join_arr = F.udf(lambda x: ' '.join(x), T.StringType())\n",
        "processed_review  = processed_review.withColumn('finished_pos', udf_join_arr(F.col('finished_pos')))\n",
        "processed_review.limit(5).show()"
      ],
      "metadata": {
        "colab": {
          "base_uri": "https://localhost:8080/"
        },
        "id": "uQu-2eZ1yPGn",
        "outputId": "68e89dd8-6cff-44d8-cbd7-1cbc26fdb624"
      },
      "execution_count": null,
      "outputs": [
        {
          "output_type": "stream",
          "name": "stdout",
          "text": [
            "+--------------------+--------------------+--------------------+--------------------+\n",
            "|                post|   finished_unigrams|     finished_ngrams|        finished_pos|\n",
            "+--------------------+--------------------+--------------------+--------------------+\n",
            "|LolThere is no wa...|[lolthere, way, o...|[lolthere, is, no...|NN VBZ DT NN IN I...|\n",
            "|I’m afraid I’ve b...|[im, afraid, ive,...|[im, afraid, ive,...|NN JJ JJ VBN VBG ...|\n",
            "|If you have tensi...|[tension, head, f...|[if, you, have, t...|IN PRP VBP NN IN ...|\n",
            "|Parnate and lamot...|[parnate, lamotri...|[parnate, and, la...|         NN CC NN NN|\n",
            "|\"Short discussion...|[short, discussio...|[short, discussio...|JJ NN IN DT NN NN...|\n",
            "+--------------------+--------------------+--------------------+--------------------+\n",
            "\n"
          ]
        }
      ]
    },
    {
      "cell_type": "markdown",
      "source": [
        "Then a pipeline is created to correspond PoS tag ngrams with word ngrams."
      ],
      "metadata": {
        "id": "UCWEbwkfydQ7"
      }
    },
    {
      "cell_type": "code",
      "source": [
        "pos_documentAssembler = DocumentAssembler() \\\n",
        "     .setInputCol('finished_pos') \\\n",
        "     .setOutputCol('pos_document')\n",
        "\n",
        "pos_tokenizer = Tokenizer() \\\n",
        "     .setInputCols(['pos_document']) \\\n",
        "     .setOutputCol('pos')\n",
        "\n",
        "pos_ngrammer = NGramGenerator() \\\n",
        "    .setInputCols(['pos']) \\\n",
        "    .setOutputCol('pos_ngrams') \\\n",
        "    .setN(3) \\\n",
        "    .setEnableCumulative(True) \\\n",
        "    .setDelimiter('_')\n",
        "\n",
        "pos_finisher = Finisher() \\\n",
        "     .setInputCols(['pos', 'pos_ngrams']) \\\n",
        "\n",
        "pos_pipeline = Pipeline() \\\n",
        "     .setStages([pos_documentAssembler,                  \n",
        "                 pos_tokenizer,\n",
        "                 pos_ngrammer,  \n",
        "                 pos_finisher])"
      ],
      "metadata": {
        "id": "Iw4tdMyQyt_V"
      },
      "execution_count": null,
      "outputs": []
    },
    {
      "cell_type": "markdown",
      "source": [
        "Fit and transform the ngram data:"
      ],
      "metadata": {
        "id": "ePHhM6Ywy1rH"
      }
    },
    {
      "cell_type": "code",
      "source": [
        "processed_review = pos_pipeline.fit(processed_review).transform(processed_review)\n",
        "processed_review.columns"
      ],
      "metadata": {
        "colab": {
          "base_uri": "https://localhost:8080/"
        },
        "id": "g0ccIFeOy4_q",
        "outputId": "d0b74368-690e-4a24-b7e3-056430f0064e"
      },
      "execution_count": null,
      "outputs": [
        {
          "output_type": "execute_result",
          "data": {
            "text/plain": [
              "['post',\n",
              " 'finished_unigrams',\n",
              " 'finished_ngrams',\n",
              " 'finished_pos',\n",
              " 'finished_pos_ngrams']"
            ]
          },
          "metadata": {},
          "execution_count": 11
        }
      ]
    },
    {
      "cell_type": "code",
      "source": [
        "processed_review.select('finished_ngrams', 'finished_pos_ngrams').limit(5).show()"
      ],
      "metadata": {
        "colab": {
          "base_uri": "https://localhost:8080/"
        },
        "id": "uqDIQuZ11tqd",
        "outputId": "dba3113f-4f11-4842-cd24-fd3ed49c9910"
      },
      "execution_count": null,
      "outputs": [
        {
          "output_type": "stream",
          "name": "stdout",
          "text": [
            "+--------------------+--------------------+\n",
            "|     finished_ngrams| finished_pos_ngrams|\n",
            "+--------------------+--------------------+\n",
            "|[lolthere, is, no...|[NN, VBZ, DT, NN,...|\n",
            "|[im, afraid, ive,...|[NN, JJ, JJ, VBN,...|\n",
            "|[if, you, have, t...|[IN, PRP, VBP, NN...|\n",
            "|[parnate, and, la...|[NN, CC, NN, NN, ...|\n",
            "|[short, discussio...|[JJ, NN, IN, DT, ...|\n",
            "+--------------------+--------------------+\n",
            "\n"
          ]
        }
      ]
    },
    {
      "cell_type": "markdown",
      "source": [
        "#### PoS-based Filtering"
      ],
      "metadata": {
        "id": "OREyt0CF18ES"
      }
    },
    {
      "cell_type": "markdown",
      "source": [
        "Unigrams:"
      ],
      "metadata": {
        "id": "Qhh02TCZ2YG8"
      }
    },
    {
      "cell_type": "code",
      "source": [
        "def filter_pos(words, pos_tags):\n",
        "    return [word for word, pos in zip(words, pos_tags) \n",
        "            if pos in ['JJ', 'NN', 'NNS', 'VB', 'VBP']]\n",
        "\n",
        "udf_filter_pos = F.udf(filter_pos, T.ArrayType(T.StringType()))\n",
        "\n",
        "processed_review = processed_review.withColumn('filtered_unigrams',\n",
        "                                               udf_filter_pos(F.col('finished_unigrams'), \n",
        "                                                              F.col('finished_pos')))\n",
        "\n",
        "processed_review.select('filtered_unigrams').limit(5).show(truncate=90)"
      ],
      "metadata": {
        "colab": {
          "base_uri": "https://localhost:8080/"
        },
        "id": "5U9vkTWO2anQ",
        "outputId": "e462d9a9-12dd-4f1b-f755-c3575070846c"
      },
      "execution_count": null,
      "outputs": [
        {
          "output_type": "stream",
          "name": "stdout",
          "text": [
            "+------------------------------------------------------------------------------------------+\n",
            "|                                                                         filtered_unigrams|\n",
            "+------------------------------------------------------------------------------------------+\n",
            "|                                                                          [lolthere, lost]|\n",
            "|[im, afraid, ive, dissociative, episodeim, far, ive, never, scary, weeks, fainted, firs...|\n",
            "|                                                                              [feel, like]|\n",
            "|                                                                       [parnate, everyone]|\n",
            "|                  [short, discussion, pop, culture, aware, ofits, film, perry, heard, sub]|\n",
            "+------------------------------------------------------------------------------------------+\n",
            "\n"
          ]
        }
      ]
    },
    {
      "cell_type": "markdown",
      "source": [
        "N-grams: bigrams and trigrams"
      ],
      "metadata": {
        "id": "HGCIJELe2qlv"
      }
    },
    {
      "cell_type": "code",
      "source": [
        "def filter_pos_combs(words, pos_tags):\n",
        "    return [word for word, pos in zip(words, pos_tags) \n",
        "            if (len(pos.split('_')) == 2 and \\\n",
        "                pos.split('_')[0] in ['JJ', 'NN', 'NNS', 'VB', 'VBP'] and \\\n",
        "                 pos.split('_')[1] in ['JJ', 'NN', 'NNS']) \\\n",
        "            or (len(pos.split('_')) == 3 and \\\n",
        "                pos.split('_')[0] in ['JJ', 'NN', 'NNS', 'VB', 'VBP'] and \\\n",
        "                 pos.split('_')[1] in ['JJ', 'NN', 'NNS', 'VB', 'VBP'] and \\\n",
        "                  pos.split('_')[2] in ['NN', 'NNS'])]\n",
        "    \n",
        "udf_filter_pos_combs = F.udf(filter_pos_combs, T.ArrayType(T.StringType()))\n",
        "\n",
        "processed_review = processed_review.withColumn('filtered_ngrams',\n",
        "                                               udf_filter_pos_combs(F.col('finished_ngrams'),\n",
        "                                                                    F.col('finished_pos_ngrams')))\n",
        "\n",
        "processed_review.select('filtered_ngrams').limit(5).show(truncate=90)"
      ],
      "metadata": {
        "colab": {
          "base_uri": "https://localhost:8080/"
        },
        "id": "oCgBhxQc243s",
        "outputId": "9df5096f-6fdb-4c35-b37d-65111bff8ede"
      },
      "execution_count": null,
      "outputs": [
        {
          "output_type": "stream",
          "name": "stdout",
          "text": [
            "+------------------------------------------------------------------------------------------+\n",
            "|                                                                           filtered_ngrams|\n",
            "+------------------------------------------------------------------------------------------+\n",
            "|                                                                                        []|\n",
            "|[im_afraid, afraid_ive, day_long, long_severe, severe_dissociative, dissociative_episod...|\n",
            "|                                                                            [have_tension]|\n",
            "|                                                                 [lamotriginehey_everyone]|\n",
            "|[short_discussion, film_numb, only_pop, pop_culture, depersonalization_im, im_aware, ma...|\n",
            "+------------------------------------------------------------------------------------------+\n",
            "\n"
          ]
        }
      ]
    },
    {
      "cell_type": "markdown",
      "source": [
        "### Vectorization: TF-IDF"
      ],
      "metadata": {
        "id": "gAM73Uoo4DfR"
      }
    },
    {
      "cell_type": "markdown",
      "source": [
        "First, unigram and n-gram data are combined into one column."
      ],
      "metadata": {
        "id": "IypxSjHq4dEc"
      }
    },
    {
      "cell_type": "code",
      "source": [
        "from pyspark.sql.functions import concat\n",
        "\n",
        "processed_review = processed_review.withColumn('final', \n",
        "                                               concat(F.col('filtered_unigrams'), \n",
        "                                                      F.col('filtered_ngrams')))"
      ],
      "metadata": {
        "id": "RC7LD2KK4o7q"
      },
      "execution_count": null,
      "outputs": []
    },
    {
      "cell_type": "markdown",
      "source": [
        "Then, **TF** (term frequency) vectorization with **CountVectorizer** in PySpark:"
      ],
      "metadata": {
        "id": "XwUwFAXg4IkY"
      }
    },
    {
      "cell_type": "code",
      "source": [
        "from pyspark.ml.feature import CountVectorizer\n",
        "\n",
        "tfizer = CountVectorizer(inputCol='final', outputCol='tf_features')\n",
        "tf_model = tfizer.fit(processed_review)\n",
        "tf_result = tf_model.transform(processed_review)"
      ],
      "metadata": {
        "id": "34cC8sDX4Zqd"
      },
      "execution_count": null,
      "outputs": []
    },
    {
      "cell_type": "markdown",
      "source": [
        "Finally, **IDF** (inverse document frequency) is used to lower word frequency scores."
      ],
      "metadata": {
        "id": "H55rJi26472W"
      }
    },
    {
      "cell_type": "code",
      "source": [
        "from pyspark.ml.feature import IDF\n",
        "\n",
        "idfizer = IDF(inputCol='tf_features', outputCol='tf_idf_features')\n",
        "idf_model = idfizer.fit(tf_result)\n",
        "tfidf_result = idf_model.transform(tf_result)\n",
        "tfidf_result.columns"
      ],
      "metadata": {
        "colab": {
          "base_uri": "https://localhost:8080/"
        },
        "id": "IzXNV_Ei5UX5",
        "outputId": "dd121737-66fa-44c9-fe60-ec177e18675a"
      },
      "execution_count": null,
      "outputs": [
        {
          "output_type": "execute_result",
          "data": {
            "text/plain": [
              "['post',\n",
              " 'finished_unigrams',\n",
              " 'finished_ngrams',\n",
              " 'finished_pos',\n",
              " 'finished_pos_ngrams',\n",
              " 'filtered_unigrams',\n",
              " 'filtered_ngrams',\n",
              " 'final',\n",
              " 'tf_features',\n",
              " 'tf_idf_features']"
            ]
          },
          "metadata": {},
          "execution_count": 18
        }
      ]
    },
    {
      "cell_type": "markdown",
      "source": [
        "### LDA (Latent Dirichlet Allocation)"
      ],
      "metadata": {
        "id": "Wo09orfN5cdV"
      }
    },
    {
      "cell_type": "markdown",
      "source": [
        "To find the optimal number of topics, LDA models with **num** topics are trained and their corresponding logLikelihood and logPerplexity calculated."
      ],
      "metadata": {
        "id": "o59W2eYP54SI"
      }
    },
    {
      "cell_type": "code",
      "source": [
        "num = [ x for x in range(1, 28) if x % 2 == 0]\n",
        "num"
      ],
      "metadata": {
        "colab": {
          "base_uri": "https://localhost:8080/"
        },
        "id": "pZ8BnhY46fWa",
        "outputId": "e95657c7-aeff-41e6-81e0-46c62098d5ca"
      },
      "execution_count": null,
      "outputs": [
        {
          "output_type": "execute_result",
          "data": {
            "text/plain": [
              "[2, 4, 6, 8, 10, 12, 14, 16, 18, 20, 22, 24, 26]"
            ]
          },
          "metadata": {},
          "execution_count": 19
        }
      ]
    },
    {
      "cell_type": "code",
      "source": [
        "from tqdm.notebook import tqdm, trange\n",
        "from time import sleep\n",
        "from pyspark.ml.clustering import LDA\n",
        "\n",
        "max_iter = 10\n",
        "perplex = []\n",
        "loglike = []\n",
        "for i in tqdm(num):\n",
        "    num_topics = i\n",
        "    lda = LDA(k=num_topics, maxIter=max_iter, featuresCol='tf_idf_features')\n",
        "    lda_model = lda.fit(tfidf_result)\n",
        "    ll = lda_model.logLikelihood(tfidf_result)\n",
        "    lp = lda_model.logPerplexity(tfidf_result)\n",
        "    loglike.append(ll)\n",
        "    perplex.append(lp)\n",
        "    sleep(0.01)"
      ],
      "metadata": {
        "colab": {
          "base_uri": "https://localhost:8080/",
          "height": 49,
          "referenced_widgets": [
            "652b026ec8184b8fa027ab6a026d3b14",
            "7cc24a035d9540bfa687696ee2cc1f04",
            "934fd7246eb1446c9ff17614a09b1026",
            "8708d055702a43b1bb19e79a4e063ff8",
            "d9da1d0cbda340619d7f15b97bec699d",
            "6f291960d6aa4fa9ac8e561f33b76063",
            "5bfd1d6755ae41e89393edf4de5c479e",
            "731247dfcdfa46928f3670d08fe5b70a",
            "18e9c52a00cd4f10a32dbe33e93e9aa1",
            "d4de6404e2954324ac6018fa0d98f2ee",
            "e16a6114e0044b96b4ae527af9d93896"
          ]
        },
        "id": "2xcyaVoS65Z1",
        "outputId": "e15d68c6-2e78-4c06-de33-e9e942120b93"
      },
      "execution_count": null,
      "outputs": [
        {
          "output_type": "display_data",
          "data": {
            "text/plain": [
              "  0%|          | 0/13 [00:00<?, ?it/s]"
            ],
            "application/vnd.jupyter.widget-view+json": {
              "version_major": 2,
              "version_minor": 0,
              "model_id": "652b026ec8184b8fa027ab6a026d3b14"
            }
          },
          "metadata": {}
        }
      ]
    },
    {
      "cell_type": "code",
      "source": [
        "import matplotlib.pyplot as plt\n",
        "plt.plot(num,perplex, marker='o')\n",
        "plt.title('upper bound on perplexity', fontsize=14)\n",
        "plt.xlabel('numTopics', fontsize=14)\n",
        "plt.grid(True)\n",
        "plt.show()"
      ],
      "metadata": {
        "colab": {
          "base_uri": "https://localhost:8080/",
          "height": 300
        },
        "id": "USfRAr5m7S2i",
        "outputId": "3408722c-f0d1-4354-ef6a-3f6959142709"
      },
      "execution_count": null,
      "outputs": [
        {
          "output_type": "display_data",
          "data": {
            "text/plain": [
              "<Figure size 432x288 with 1 Axes>"
            ],
            "image/png": "[encoded data removed]"
          },
          "metadata": {
            "needs_background": "light"
          }
        }
      ]
    },
    {
      "cell_type": "code",
      "source": [
        "plt.plot(num,loglike, marker='o')\n",
        "plt.title(\"lower bound on the log likelihood\", fontsize=14)\n",
        "plt.xlabel('NumTopics', fontsize=14)\n",
        "plt.grid(True)\n",
        "plt.show()"
      ],
      "metadata": {
        "colab": {
          "base_uri": "https://localhost:8080/",
          "height": 300
        },
        "id": "fOSyrRR27Vhf",
        "outputId": "5aa0b875-4938-4cf3-ff95-2404d5e63e68"
      },
      "execution_count": null,
      "outputs": [
        {
          "output_type": "display_data",
          "data": {
            "text/plain": [
              "<Figure size 432x288 with 1 Axes>"
            ],
            "image/png": "[encoded data removed]"
          },
          "metadata": {
            "needs_background": "light"
          }
        }
      ]
    },
    {
      "cell_type": "markdown",
      "source": [
        "Thus, it seems that the optimal number of topics is between 5 and 10; an eye estimated num = 6 will be utilized, where k = num."
      ],
      "metadata": {
        "id": "ZMXPkb4m7Z6F"
      }
    },
    {
      "cell_type": "code",
      "source": [
        "lda = LDA(k=6, maxIter=10, featuresCol='tf_idf_features')\n",
        "lda_model = lda.fit(tfidf_result)"
      ],
      "metadata": {
        "id": "q1oQ0uXx8DAw"
      },
      "execution_count": null,
      "outputs": []
    },
    {
      "cell_type": "markdown",
      "source": [
        "Extracting words that most embody defined topics. //reword"
      ],
      "metadata": {
        "id": "WRRNbGtY-psB"
      }
    },
    {
      "cell_type": "code",
      "source": [
        "vocab = tf_model.vocabulary\n",
        "\n",
        "def get_words(token_list):\n",
        "     return [vocab[token_id] for token_id in token_list]\n",
        "       \n",
        "udf_to_words = F.udf(get_words, T.ArrayType(T.StringType()))\n",
        "num_top_words = 10\n",
        "\n",
        "topics = lda_model.describeTopics(num_top_words).withColumn('topicWords', udf_to_words(F.col('termIndices')))\n",
        "topics.select('topic', 'topicWords').show(truncate=90)"
      ],
      "metadata": {
        "colab": {
          "base_uri": "https://localhost:8080/"
        },
        "id": "NbNyN0Yz-7ai",
        "outputId": "2761b93f-a28e-4cd1-bb78-ae797bf25483"
      },
      "execution_count": null,
      "outputs": [
        {
          "output_type": "stream",
          "name": "stdout",
          "text": [
            "+-----+------------------------------------------------------------------------------------------+\n",
            "|topic|                                                                                topicWords|\n",
            "+-----+------------------------------------------------------------------------------------------+\n",
            "|    0|                           [like, im, feel, know, else, dpdr, better, dont, time, getting]|\n",
            "|    1|                       [real, cant, like, im, feel, really, dpdr, anyone, feel_real, even]|\n",
            "|    2|            [deja_vu, youre, questions, thank, inner_voice, vu, dpdr, research, lot, like]|\n",
            "|    3|             [im, thoughts, things, like, anxiety, thought, feel, body, existential, know]|\n",
            "|    4|[anyone, therapist, cause, say, experiences, done, similar_experiences, everyone, today...|\n",
            "|    5|                         [feel, like, dpdr, anyone, im, dont, see, people, didnt, feeling]|\n",
            "+-----+------------------------------------------------------------------------------------------+\n",
            "\n"
          ]
        }
      ]
    }
  ]
}